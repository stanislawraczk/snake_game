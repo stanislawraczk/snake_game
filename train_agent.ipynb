{
 "cells": [
  {
   "cell_type": "code",
   "execution_count": 1,
   "metadata": {},
   "outputs": [
    {
     "name": "stdout",
     "output_type": "stream",
     "text": [
      "pygame 2.0.1 (SDL 2.0.14, Python 3.9.1)\n",
      "Hello from the pygame community. https://www.pygame.org/contribute.html\n"
     ]
    }
   ],
   "source": [
    "import random\n",
    "import pygame\n",
    "import numpy as np\n",
    "from game import Game\n",
    "from game_objects import Fruit, Snake\n",
    "from global_variables import SCREEN_WIDTH, SCREEN_HEIGHT, SNAKE_SIZE, AUTO"
   ]
  },
  {
   "cell_type": "code",
   "execution_count": 2,
   "metadata": {},
   "outputs": [
    {
     "name": "stdout",
     "output_type": "stream",
     "text": [
      "286.4\n"
     ]
    }
   ],
   "source": [
    "screen = pygame.display.set_mode((SCREEN_WIDTH, SCREEN_HEIGHT))\n",
    "snake = Snake()\n",
    "tails = list()\n",
    "x = SNAKE_SIZE * random.randint(1, (SCREEN_WIDTH // SNAKE_SIZE) - 1)\n",
    "y = SNAKE_SIZE * random.randint(1, (SCREEN_HEIGHT // SNAKE_SIZE) - 1)\n",
    "fruit = Fruit(screen_x=x, screen_y=y)\n",
    "scores = []\n",
    "game = Game(mode=AUTO, wait=0, screen_in=screen, snake_in=snake, tails_in=tails, fruit_in=fruit)\n",
    "for i_episode in range(100):\n",
    "    scores.append(game.game_loop())\n",
    "    tails = list()\n",
    "    print(i_episode, end='\\r')\n",
    "\n",
    "scores = np.array(scores)\n",
    "print(scores.mean())"
   ]
  },
  {
   "cell_type": "code",
   "execution_count": 2,
   "metadata": {},
   "outputs": [
    {
     "name": "stdout",
     "output_type": "stream",
     "text": [
      "[300.0, 1, 0, 424.2640687119285, 1, 0, 300.0, 1, 0, 424.2640687119285, 1, 0, 300.0, 1, 0, 424.26406871192836, 1, 0, 300.0, 1, 0, 424.26406871192836, 1, 0]\n",
      "[300.0, 1, 0, 424.2640687119285, 1, 0, 300.0, 1, 0, 424.2640687119285, 1, 0, 300.0, 1, 0, 424.26406871192836, 1, 0, 300.0, 1, 0, 424.26406871192836, 1, 0]0]\r"
     ]
    }
   ],
   "source": [
    "screen = pygame.display.set_mode((SCREEN_WIDTH, SCREEN_HEIGHT))\n",
    "snake = Snake()\n",
    "tails = list()\n",
    "x = SNAKE_SIZE * random.randint(1, (SCREEN_WIDTH // SNAKE_SIZE) - 1)\n",
    "y = SNAKE_SIZE * random.randint(1, (SCREEN_HEIGHT // SNAKE_SIZE) - 1)\n",
    "fruit = Fruit(screen_x=x, screen_y=y)\n",
    "scores = []\n",
    "game = Game(mode=AUTO, wait=1000, screen_in=screen, snake_in=snake, tails_in=tails, fruit_in=fruit)\n",
    "\n",
    "print(game.reset())\n",
    "while True:\n",
    "    next_state, reward, done = game.step(random.randint(0,3))\n",
    "    print(next_state, end='\\r')\n",
    "    if done:\n",
    "        break"
   ]
  }
 ],
 "metadata": {
  "interpreter": {
   "hash": "c1840204a5d3b00d8be530f41689c82da94ae89fee3db84ca4e2f6552187ed16"
  },
  "kernelspec": {
   "display_name": "Python 3.9.1 ('venv': venv)",
   "language": "python",
   "name": "python3"
  },
  "language_info": {
   "codemirror_mode": {
    "name": "ipython",
    "version": 3
   },
   "file_extension": ".py",
   "mimetype": "text/x-python",
   "name": "python",
   "nbconvert_exporter": "python",
   "pygments_lexer": "ipython3",
   "version": "3.9.1"
  },
  "orig_nbformat": 4
 },
 "nbformat": 4,
 "nbformat_minor": 2
}
